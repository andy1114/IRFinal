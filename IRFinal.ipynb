{
  "nbformat": 4,
  "nbformat_minor": 0,
  "metadata": {
    "colab": {
      "name": "IRFinal.ipynb",
      "version": "0.3.2",
      "provenance": [],
      "include_colab_link": true
    },
    "kernelspec": {
      "name": "python3",
      "display_name": "Python 3"
    }
  },
  "cells": [
    {
      "cell_type": "markdown",
      "metadata": {
        "id": "view-in-github",
        "colab_type": "text"
      },
      "source": [
        "<a href=\"https://colab.research.google.com/github/ksstp93200/IRFinal/blob/master/IRFinal.ipynb\" target=\"_parent\"><img src=\"https://colab.research.google.com/assets/colab-badge.svg\" alt=\"Open In Colab\"/></a>"
      ]
    },
    {
      "metadata": {
        "id": "e9EC5zS3kafG",
        "colab_type": "code",
        "colab": {
          "base_uri": "https://localhost:8080/",
          "height": 235
        },
        "outputId": "28fe35a5-3d51-4614-c9ce-8458bce97104"
      },
      "cell_type": "code",
      "source": [
        "!pip install udicOpenData"
      ],
      "execution_count": 1,
      "outputs": [
        {
          "output_type": "stream",
          "text": [
            "Collecting udicOpenData\n",
            "\u001b[?25l  Downloading https://files.pythonhosted.org/packages/c5/54/b459a4865de39c09e0a4d5796f47cc1c46a2ef04c24bdf698ed952440886/udicOpenData-2.4.tar.gz (17.8MB)\n",
            "\u001b[K    100% |████████████████████████████████| 17.8MB 1.3MB/s \n",
            "\u001b[?25hRequirement already satisfied: jieba in /usr/local/lib/python3.6/dist-packages (from udicOpenData) (0.39)\n",
            "Requirement already satisfied: nltk in /usr/local/lib/python3.6/dist-packages (from udicOpenData) (3.2.5)\n",
            "Requirement already satisfied: numpy in /usr/local/lib/python3.6/dist-packages (from udicOpenData) (1.14.6)\n",
            "Requirement already satisfied: six in /usr/local/lib/python3.6/dist-packages (from nltk->udicOpenData) (1.11.0)\n",
            "Building wheels for collected packages: udicOpenData\n",
            "  Running setup.py bdist_wheel for udicOpenData ... \u001b[?25l-\b \b\\\b \b|\b \b/\b \b-\b \b\\\b \b|\b \bdone\n",
            "\u001b[?25h  Stored in directory: /root/.cache/pip/wheels/5e/5d/fc/4ed48af0b3c24ff9c4cb9b868680540afb2edcebbcd65abd43\n",
            "Successfully built udicOpenData\n",
            "Installing collected packages: udicOpenData\n",
            "Successfully installed udicOpenData-2.4\n"
          ],
          "name": "stdout"
        }
      ]
    },
    {
      "metadata": {
        "id": "iJTcLORalWgY",
        "colab_type": "code",
        "colab": {
          "base_uri": "https://localhost:8080/",
          "height": 34
        },
        "outputId": "dc503c64-4624-4bcd-9f8d-b7fe2ba51154"
      },
      "cell_type": "code",
      "source": [
        "from google.colab import drive\n",
        "drive.mount('/content/gdrive')"
      ],
      "execution_count": 12,
      "outputs": [
        {
          "output_type": "stream",
          "text": [
            "Drive already mounted at /content/gdrive; to attempt to forcibly remount, call drive.mount(\"/content/gdrive\", force_remount=True).\n"
          ],
          "name": "stdout"
        }
      ]
    },
    {
      "metadata": {
        "id": "iTdd9y9LlqUV",
        "colab_type": "code",
        "colab": {}
      },
      "cell_type": "code",
      "source": [
        "import json\n",
        "\n",
        "with open('/content/gdrive/My Drive/200_Questions.json') as f:\n",
        "    data = json.load(f)"
      ],
      "execution_count": 0,
      "outputs": []
    },
    {
      "metadata": {
        "id": "H_y-SitKmz-s",
        "colab_type": "code",
        "colab": {
          "base_uri": "https://localhost:8080/",
          "height": 286
        },
        "outputId": "a3bbbae8-aeb5-4eb9-ddea-962d6e0a21d7"
      },
      "cell_type": "code",
      "source": [
        "from udicOpenData.dictionary import *\n",
        "from udicOpenData.stopwords import *"
      ],
      "execution_count": 19,
      "outputs": [
        {
          "output_type": "stream",
          "text": [
            "Building prefix dict from the default dictionary ...\n",
            "Dumping model to file cache /tmp/jieba.cache\n",
            "Loading model cost 1.027 seconds.\n",
            "Prefix dict has been built succesfully.\n"
          ],
          "name": "stderr"
        },
        {
          "output_type": "stream",
          "text": [
            "[nltk_data] Downloading package punkt to /root/nltk_data...\n",
            "[nltk_data]   Unzipping tokenizers/punkt.zip.\n",
            "[nltk_data] Downloading package averaged_perceptron_tagger to\n",
            "[nltk_data]     /root/nltk_data...\n",
            "[nltk_data]   Unzipping taggers/averaged_perceptron_tagger.zip.\n",
            "[nltk_data] Downloading package maxent_ne_chunker to\n",
            "[nltk_data]     /root/nltk_data...\n",
            "[nltk_data]   Unzipping chunkers/maxent_ne_chunker.zip.\n",
            "[nltk_data] Downloading package words to /root/nltk_data...\n",
            "[nltk_data]   Unzipping corpora/words.zip.\n",
            "[nltk_data] Downloading package wordnet to /root/nltk_data...\n",
            "[nltk_data]   Unzipping corpora/wordnet.zip.\n"
          ],
          "name": "stdout"
        }
      ]
    },
    {
      "metadata": {
        "id": "GUeKvriCmaUk",
        "colab_type": "code",
        "colab": {
          "base_uri": "https://localhost:8080/",
          "height": 554
        },
        "outputId": "b0a17dc9-ae8b-45f0-db91-c2bf570f9d9f"
      },
      "cell_type": "code",
      "source": [
        "list(rmsw(data[0]['Question'], flag=False))"
      ],
      "execution_count": 21,
      "outputs": [
        {
          "output_type": "execute_result",
          "data": {
            "text/plain": [
              "['國家',\n",
              " '最大',\n",
              " '三個',\n",
              " '城市',\n",
              " '分別',\n",
              " '阿姆斯特丹',\n",
              " '鹿特丹',\n",
              " '海牙',\n",
              " '阿姆斯特丹',\n",
              " '憲法',\n",
              " '確定',\n",
              " '正式',\n",
              " '首都',\n",
              " '政府',\n",
              " '國王',\n",
              " '王宮',\n",
              " '大多數',\n",
              " '使館',\n",
              " '位於',\n",
              " '海牙',\n",
              " '國際法庭',\n",
              " '設在',\n",
              " '海牙',\n",
              " '鹿特丹港',\n",
              " '位於',\n",
              " '鹿特丹',\n",
              " '全世界',\n",
              " '進出',\n",
              " '量',\n",
              " '第八',\n",
              " '大型',\n",
              " '港口']"
            ]
          },
          "metadata": {
            "tags": []
          },
          "execution_count": 21
        }
      ]
    },
    {
      "metadata": {
        "id": "A2o9AKfgl-T1",
        "colab_type": "code",
        "colab": {}
      },
      "cell_type": "code",
      "source": [
        ""
      ],
      "execution_count": 0,
      "outputs": []
    }
  ]
}